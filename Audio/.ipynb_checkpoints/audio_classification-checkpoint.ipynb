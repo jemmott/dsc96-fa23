{
 "cells": [
  {
   "cell_type": "markdown",
   "metadata": {},
   "source": [
    "# Audio Classification in the Cloud\n",
    "\n",
    "Today we are going to explore audio classification in the cloud, including:\n",
    "\n",
    "1. Trying out the IBM Open Source API for sound classification.\n",
    "2. Seeing how to get that running in the cloud.\n",
    "3. Looking at the source to dive even deeper."
   ]
  },
  {
   "cell_type": "markdown",
   "metadata": {},
   "source": [
    "# Recorded Sounds\n",
    "\n",
    "First we import a `.wav` file as an array and listen to it.  There are a bunch to play with in the `data/effects` folder."
   ]
  },
  {
   "cell_type": "code",
   "execution_count": null,
   "metadata": {},
   "outputs": [],
   "source": [
    "from scipy.io.wavfile import read\n",
    "import numpy as np\n",
    "\n",
    "# Read in wav file as an array\n",
    "a = read(\"data/effects/come_get_it.wav\")\n",
    "samplingRate = a[0]\n",
    "audioData = a[1]"
   ]
  },
  {
   "cell_type": "markdown",
   "metadata": {},
   "source": [
    "Listen to audio from within the notebook using: `IPython.display.Audio`"
   ]
  },
  {
   "cell_type": "code",
   "execution_count": null,
   "metadata": {},
   "outputs": [],
   "source": [
    "from IPython import display\n",
    "display.Audio(audioData, rate = samplingRate)"
   ]
  },
  {
   "cell_type": "markdown",
   "metadata": {},
   "source": [
    "# Audio classification\n",
    "\n",
    "This uses CURL.  I tried to use requests and am getting errors.  Please let me know what I am doing wrong!"
   ]
  },
  {
   "cell_type": "code",
   "execution_count": null,
   "metadata": {},
   "outputs": [],
   "source": [
    "! curl -X POST \"http://whatsound.westus2.azurecontainer.io:5000/model/predict\" -F \"audio=@data/first_sound.wav;type=audio/wav\""
   ]
  },
  {
   "cell_type": "code",
   "execution_count": null,
   "metadata": {},
   "outputs": [],
   "source": [
    "import requests\n",
    "import json\n",
    "\n",
    "fName = \"data/first_sound.wav\"\n",
    "url = \"http://whatsound.westus2.azurecontainer.io:5000/model/predict\"\n",
    "files = {\"audio\":open(fName, 'rb'),\n",
    "        \"type\":\"audio/wav\"}\n",
    "r = requests.post(url, files=files)\n",
    "r.text"
   ]
  },
  {
   "cell_type": "markdown",
   "metadata": {},
   "source": [
    "You should get back some results that describe the sounds.  You can read more about the ontology used for the training data [here](https://research.google.com/audioset/ontology/index.html).\n",
    "\n",
    "Try some different sounds and see what it does.  Here is a list of sounds in the `data/effects` folder"
   ]
  },
  {
   "cell_type": "code",
   "execution_count": null,
   "metadata": {},
   "outputs": [],
   "source": [
    "import os\n",
    "\n",
    "os.listdir('data/effects')"
   ]
  },
  {
   "cell_type": "code",
   "execution_count": null,
   "metadata": {},
   "outputs": [],
   "source": [
    "# your code here"
   ]
  },
  {
   "cell_type": "markdown",
   "metadata": {},
   "source": [
    "So what is actually going on here?\n",
    "\n",
    "You are sending an audio file to a server and it sends back some data.\n",
    "\n",
    "The server in this case is IBM's [MAX Audio Classifier](https://github.com/IBM/MAX-Audio-Classifier) deployed to an [Azure Container Instance](https://azure.microsoft.com/en-us/services/container-instances/) on Microsoft's cloud. \n",
    "\n",
    "You can do it too! (and there are lots of other containers to modify or you can make your own.)  "
   ]
  },
  {
   "cell_type": "code",
   "execution_count": null,
   "metadata": {},
   "outputs": [],
   "source": []
  }
 ],
 "metadata": {
  "kernelspec": {
   "display_name": "Python 3",
   "language": "python",
   "name": "python3"
  },
  "language_info": {
   "codemirror_mode": {
    "name": "ipython",
    "version": 3
   },
   "file_extension": ".py",
   "mimetype": "text/x-python",
   "name": "python",
   "nbconvert_exporter": "python",
   "pygments_lexer": "ipython3",
   "version": "3.7.3"
  }
 },
 "nbformat": 4,
 "nbformat_minor": 2
}
